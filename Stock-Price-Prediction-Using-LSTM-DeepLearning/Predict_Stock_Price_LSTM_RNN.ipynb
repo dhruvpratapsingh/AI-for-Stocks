{
  "nbformat": 4,
  "nbformat_minor": 0,
  "metadata": {
    "colab": {
      "name": "Predict Stock Price : LSTM RNN.ipynb",
      "provenance": [],
      "collapsed_sections": [
        "_7-r0RwaVwj6",
        "GOZOKe6kZpBq"
      ],
      "toc_visible": true,
      "include_colab_link": true
    },
    "kernelspec": {
      "name": "python3",
      "display_name": "Python 3"
    },
    "accelerator": "GPU"
  },
  "cells": [
    {
      "cell_type": "markdown",
      "metadata": {
        "id": "view-in-github",
        "colab_type": "text"
      },
      "source": [
        "<a href=\"https://colab.research.google.com/github/dhruvpratapsingh/AI-for-Stocks/blob/master/Stock-Price-Prediction-Using-LSTM-DeepLearning/Predict_Stock_Price_LSTM_RNN.ipynb\" target=\"_parent\"><img src=\"https://colab.research.google.com/assets/colab-badge.svg\" alt=\"Open In Colab\"/></a>"
      ]
    },
    {
      "cell_type": "markdown",
      "metadata": {
        "id": "GS0x1c07BUJ_",
        "colab_type": "text"
      },
      "source": [
        "# Recurrent Neural Network\n",
        "\n",
        "### Predict Stock Market Trend"
      ]
    },
    {
      "cell_type": "code",
      "metadata": {
        "id": "kleO1kEeBHwE",
        "colab_type": "code",
        "colab": {}
      },
      "source": [
        "# Prepare evironment from requirements.txt"
      ],
      "execution_count": 0,
      "outputs": []
    },
    {
      "cell_type": "markdown",
      "metadata": {
        "id": "rayMqH61BOvp",
        "colab_type": "text"
      },
      "source": [
        "## 1. Get Data"
      ]
    },
    {
      "cell_type": "code",
      "metadata": {
        "id": "bezIhRlZBZUI",
        "colab_type": "code",
        "outputId": "3d8ba7ed-60cb-44be-e5c5-012d3f6925f5",
        "colab": {
          "base_uri": "https://localhost:8080/",
          "height": 377
        }
      },
      "source": [
        "!pip install yfinance"
      ],
      "execution_count": 1,
      "outputs": [
        {
          "output_type": "stream",
          "text": [
            "Collecting yfinance\n",
            "  Downloading https://files.pythonhosted.org/packages/c2/31/8b374a12b90def92a4e27d0fc595fc43635f395984e36a075244d98bd265/yfinance-0.1.54.tar.gz\n",
            "Requirement already satisfied: pandas>=0.24 in /usr/local/lib/python3.6/dist-packages (from yfinance) (0.25.3)\n",
            "Requirement already satisfied: numpy>=1.15 in /usr/local/lib/python3.6/dist-packages (from yfinance) (1.17.4)\n",
            "Requirement already satisfied: requests>=2.20 in /usr/local/lib/python3.6/dist-packages (from yfinance) (2.21.0)\n",
            "Requirement already satisfied: multitasking>=0.0.7 in /usr/local/lib/python3.6/dist-packages (from yfinance) (0.0.9)\n",
            "Requirement already satisfied: pytz>=2017.2 in /usr/local/lib/python3.6/dist-packages (from pandas>=0.24->yfinance) (2018.9)\n",
            "Requirement already satisfied: python-dateutil>=2.6.1 in /usr/local/lib/python3.6/dist-packages (from pandas>=0.24->yfinance) (2.6.1)\n",
            "Requirement already satisfied: chardet<3.1.0,>=3.0.2 in /usr/local/lib/python3.6/dist-packages (from requests>=2.20->yfinance) (3.0.4)\n",
            "Requirement already satisfied: urllib3<1.25,>=1.21.1 in /usr/local/lib/python3.6/dist-packages (from requests>=2.20->yfinance) (1.24.3)\n",
            "Requirement already satisfied: certifi>=2017.4.17 in /usr/local/lib/python3.6/dist-packages (from requests>=2.20->yfinance) (2019.11.28)\n",
            "Requirement already satisfied: idna<2.9,>=2.5 in /usr/local/lib/python3.6/dist-packages (from requests>=2.20->yfinance) (2.8)\n",
            "Requirement already satisfied: six>=1.5 in /usr/local/lib/python3.6/dist-packages (from python-dateutil>=2.6.1->pandas>=0.24->yfinance) (1.12.0)\n",
            "Building wheels for collected packages: yfinance\n",
            "  Building wheel for yfinance (setup.py) ... \u001b[?25l\u001b[?25hdone\n",
            "  Created wheel for yfinance: filename=yfinance-0.1.54-py2.py3-none-any.whl size=22411 sha256=b732bd18dc64b6e2d515bc07d5f81fcb1171fc4dc964ce57aee5a5ea1c521378\n",
            "  Stored in directory: /root/.cache/pip/wheels/f9/e3/5b/ec24dd2984b12d61e0abf26289746c2436a0e7844f26f2515c\n",
            "Successfully built yfinance\n",
            "Installing collected packages: yfinance\n",
            "Successfully installed yfinance-0.1.54\n"
          ],
          "name": "stdout"
        }
      ]
    },
    {
      "cell_type": "code",
      "metadata": {
        "id": "mfeo7cBeBbv5",
        "colab_type": "code",
        "colab": {}
      },
      "source": [
        "import yfinance as yf\n",
        "\n",
        "# ticker = yf.Ticker(\"^DJI\") # Dow Jones\n",
        "ticker = yf.Ticker(\"^GSPC\") #SNP\n",
        "# ticker = yf.Ticker(\"^IXIC\")\n",
        "# ticker = yf.Ticker(\"^N225\")\n",
        "# ticker = yf.Ticker(\"^FTSE\")\n",
        "# ticker = yf.Ticker(\"^AORD\")\n",
        "# ticker = yf.Ticker(\"^HSI\")\n",
        "# ticker = yf.Ticker(\"^GDAXI\")\n",
        "# ticker = yf.Ticker(\"^NYA\")\n",
        "\n",
        "# get stock info\n",
        "#ticker.info\n",
        "\n",
        "#ticker.get_info()[\"longBusinessSummary\"]\n",
        "\n",
        "# get historical market data, here max is 5 years.\n",
        "df = ticker.history(period='1y', interval='1d')"
      ],
      "execution_count": 0,
      "outputs": []
    },
    {
      "cell_type": "code",
      "metadata": {
        "id": "Xlfv8QiTF-E_",
        "colab_type": "code",
        "colab": {}
      },
      "source": [
        "ticker.get_info()[\"longBusinessSummary\"]"
      ],
      "execution_count": 0,
      "outputs": []
    },
    {
      "cell_type": "code",
      "metadata": {
        "id": "1npwy10_MUO9",
        "colab_type": "code",
        "outputId": "6a83084c-213f-4d5d-9658-2c9bac5df12e",
        "colab": {
          "base_uri": "https://localhost:8080/",
          "height": 272
        }
      },
      "source": [
        "print(df.info)"
      ],
      "execution_count": 29,
      "outputs": [
        {
          "output_type": "stream",
          "text": [
            "<bound method DataFrame.info of                 Open      High       Low  ...      Volume  Dividends  Stock Splits\n",
            "Date                                      ...                                     \n",
            "2019-01-04  11323.73  11559.02  11323.73  ...  4213410000          0             0\n",
            "2019-01-07  11536.05  11678.97  11504.77  ...  4104710000          0             0\n",
            "2019-01-08  11702.50  11727.75  11621.15  ...  4081030000          0             0\n",
            "2019-01-09  11758.03  11811.68  11712.37  ...  4052480000          0             0\n",
            "2019-01-10  11731.55  11843.60  11701.81  ...  3704500000          0             0\n",
            "...              ...       ...       ...  ...         ...        ...           ...\n",
            "2019-12-27  13976.85  13978.61  13928.15  ...  2428670000          0             0\n",
            "2019-12-30  13951.26  13952.78  13864.57  ...  3013290000          0             0\n",
            "2019-12-31  13852.60  13915.74  13843.98  ...  2893810000          0             0\n",
            "2020-01-02  13913.03  14003.39  13913.03  ...  3458250000          0             0\n",
            "2020-01-03  13877.48  13950.74  13870.74  ...  3461290000          0             0\n",
            "\n",
            "[252 rows x 7 columns]>\n"
          ],
          "name": "stdout"
        }
      ]
    },
    {
      "cell_type": "code",
      "metadata": {
        "id": "L695IaUrMi62",
        "colab_type": "code",
        "colab": {}
      },
      "source": [
        "# df to csv converter\n",
        "df.to_csv('SPY.csv', encoding='utf-8')"
      ],
      "execution_count": 0,
      "outputs": []
    },
    {
      "cell_type": "code",
      "metadata": {
        "id": "CS7kq2ncICPJ",
        "colab_type": "code",
        "outputId": "6a86d290-e55b-4ee0-b73a-0912e87f1b47",
        "colab": {
          "base_uri": "https://localhost:8080/",
          "height": 1000
        }
      },
      "source": [
        "# See the extended API Doc\n",
        "#print(ticker.history(period='1y', interval='1d').__doc__)"
      ],
      "execution_count": 0,
      "outputs": [
        {
          "output_type": "stream",
          "text": [
            "\n",
            "    Two-dimensional size-mutable, potentially heterogeneous tabular data\n",
            "    structure with labeled axes (rows and columns). Arithmetic operations\n",
            "    align on both row and column labels. Can be thought of as a dict-like\n",
            "    container for Series objects. The primary pandas data structure.\n",
            "\n",
            "    Parameters\n",
            "    ----------\n",
            "    data : ndarray (structured or homogeneous), Iterable, dict, or DataFrame\n",
            "        Dict can contain Series, arrays, constants, or list-like objects\n",
            "\n",
            "        .. versionchanged :: 0.23.0\n",
            "           If data is a dict, column order follows insertion-order for\n",
            "           Python 3.6 and later.\n",
            "\n",
            "        .. versionchanged :: 0.25.0\n",
            "           If data is a list of dicts, column order follows insertion-order\n",
            "           for Python 3.6 and later.\n",
            "\n",
            "    index : Index or array-like\n",
            "        Index to use for resulting frame. Will default to RangeIndex if\n",
            "        no indexing information part of input data and no index provided\n",
            "    columns : Index or array-like\n",
            "        Column labels to use for resulting frame. Will default to\n",
            "        RangeIndex (0, 1, 2, ..., n) if no column labels are provided\n",
            "    dtype : dtype, default None\n",
            "        Data type to force. Only a single dtype is allowed. If None, infer\n",
            "    copy : boolean, default False\n",
            "        Copy data from inputs. Only affects DataFrame / 2d ndarray input\n",
            "\n",
            "    See Also\n",
            "    --------\n",
            "    DataFrame.from_records : Constructor from tuples, also record arrays.\n",
            "    DataFrame.from_dict : From dicts of Series, arrays, or dicts.\n",
            "    DataFrame.from_items : From sequence of (key, value) pairs\n",
            "        read_csv, pandas.read_table, pandas.read_clipboard.\n",
            "\n",
            "    Examples\n",
            "    --------\n",
            "    Constructing DataFrame from a dictionary.\n",
            "\n",
            "    >>> d = {'col1': [1, 2], 'col2': [3, 4]}\n",
            "    >>> df = pd.DataFrame(data=d)\n",
            "    >>> df\n",
            "       col1  col2\n",
            "    0     1     3\n",
            "    1     2     4\n",
            "\n",
            "    Notice that the inferred dtype is int64.\n",
            "\n",
            "    >>> df.dtypes\n",
            "    col1    int64\n",
            "    col2    int64\n",
            "    dtype: object\n",
            "\n",
            "    To enforce a single dtype:\n",
            "\n",
            "    >>> df = pd.DataFrame(data=d, dtype=np.int8)\n",
            "    >>> df.dtypes\n",
            "    col1    int8\n",
            "    col2    int8\n",
            "    dtype: object\n",
            "\n",
            "    Constructing DataFrame from numpy ndarray:\n",
            "\n",
            "    >>> df2 = pd.DataFrame(np.array([[1, 2, 3], [4, 5, 6], [7, 8, 9]]),\n",
            "    ...                    columns=['a', 'b', 'c'])\n",
            "    >>> df2\n",
            "       a  b  c\n",
            "    0  1  2  3\n",
            "    1  4  5  6\n",
            "    2  7  8  9\n",
            "    \n"
          ],
          "name": "stdout"
        }
      ]
    },
    {
      "cell_type": "code",
      "metadata": {
        "id": "PBZCtaSCRFi5",
        "colab_type": "code",
        "colab": {}
      },
      "source": [
        "dfTrain = ticker.history(period='5y', interval='1d', start=None, end='2019-11-20')"
      ],
      "execution_count": 0,
      "outputs": []
    },
    {
      "cell_type": "code",
      "metadata": {
        "id": "OpF1ogn3RsyD",
        "colab_type": "code",
        "colab": {}
      },
      "source": [
        "# Save Training set\n",
        "dfTrain.to_csv('spy_stock_price_train.csv', encoding='utf-8')"
      ],
      "execution_count": 0,
      "outputs": []
    },
    {
      "cell_type": "code",
      "metadata": {
        "id": "v7hdLHLzG_4d",
        "colab_type": "code",
        "colab": {}
      },
      "source": [
        "dfTest = ticker.history(period='5y', interval='1d', start='2019-11-21', end='2019-12-20')"
      ],
      "execution_count": 0,
      "outputs": []
    },
    {
      "cell_type": "code",
      "metadata": {
        "id": "g9PciCxyVO40",
        "colab_type": "code",
        "colab": {}
      },
      "source": [
        "# Save Test set\n",
        "dfTest.to_csv('spy_stock_price_test.csv', encoding='utf-8')"
      ],
      "execution_count": 0,
      "outputs": []
    },
    {
      "cell_type": "markdown",
      "metadata": {
        "id": "_7-r0RwaVwj6",
        "colab_type": "text"
      },
      "source": [
        "## 2. Data Preprocessing"
      ]
    },
    {
      "cell_type": "code",
      "metadata": {
        "id": "vDksJ6O8VzjC",
        "colab_type": "code",
        "colab": {}
      },
      "source": [
        "# import essential libraries\n",
        "import numpy as np\n",
        "import matplotlib.pyplot as plt\n",
        "import pandas as pd\n",
        "\n",
        "# iLoc relevant colums from the training set\n",
        "# Adding .values makes it a numpy array which we need to feed it to Keras\n",
        "training_set = dfTrain.iloc[:,1:2].values"
      ],
      "execution_count": 0,
      "outputs": []
    },
    {
      "cell_type": "code",
      "metadata": {
        "id": "sUMgjsG2ZybQ",
        "colab_type": "code",
        "colab": {}
      },
      "source": [
        "# Feature Scaling\n",
        "from sklearn.preprocessing import MinMaxScaler\n",
        "sc = MinMaxScaler(feature_range = (0,1))\n",
        "training_set_scaled = sc.fit_transform(training_set)"
      ],
      "execution_count": 0,
      "outputs": []
    },
    {
      "cell_type": "code",
      "metadata": {
        "id": "iNTQhyaWhokE",
        "colab_type": "code",
        "colab": {}
      },
      "source": [
        "# Creating a data structure with 60 time steps and 1 output\n",
        "# This is an important dp step in RNN\n",
        "X_train = []\n",
        "y_train = []\n",
        "\n",
        "for i in range(60, training_set_scaled.size):\n",
        "  X_train.append(training_set_scaled[i-60:i, 0])\n",
        "  y_train.append(training_set_scaled[i, 0])\n",
        "\n",
        "X_train, y_train = np.array(X_train), np.array(y_train)\n",
        "\n",
        "# Reshaping the data to input to keras\n",
        "X_train = np.reshape(X_train, (X_train.shape[0], X_train.shape[1], 1))"
      ],
      "execution_count": 0,
      "outputs": []
    },
    {
      "cell_type": "markdown",
      "metadata": {
        "id": "GOZOKe6kZpBq",
        "colab_type": "text"
      },
      "source": [
        "#### Miscelleneous"
      ]
    },
    {
      "cell_type": "code",
      "metadata": {
        "id": "LBpfbABKXb40",
        "colab_type": "code",
        "outputId": "65c81351-ee57-4cff-d6aa-45d82972d638",
        "colab": {
          "base_uri": "https://localhost:8080/",
          "height": 34
        }
      },
      "source": [
        "print(type(dfTrain))"
      ],
      "execution_count": 0,
      "outputs": [
        {
          "output_type": "stream",
          "text": [
            "<class 'pandas.core.frame.DataFrame'>\n"
          ],
          "name": "stdout"
        }
      ]
    },
    {
      "cell_type": "code",
      "metadata": {
        "id": "xvQvt4_3YZej",
        "colab_type": "code",
        "outputId": "5f6e27ae-98ea-4551-e1df-09c82c0295a7",
        "colab": {
          "base_uri": "https://localhost:8080/",
          "height": 102
        }
      },
      "source": [
        "print(training_set[:][:5])"
      ],
      "execution_count": 0,
      "outputs": [
        {
          "output_type": "stream",
          "text": [
            "[[26.47]\n",
            " [26.64]\n",
            " [26.72]\n",
            " [27.  ]\n",
            " [27.15]]\n"
          ],
          "name": "stdout"
        }
      ]
    },
    {
      "cell_type": "code",
      "metadata": {
        "id": "K5wfxpDshQMi",
        "colab_type": "code",
        "outputId": "20a389c6-a294-4a25-8022-73aea3242665",
        "colab": {
          "base_uri": "https://localhost:8080/",
          "height": 136
        }
      },
      "source": [
        "print(training_set_scaled)"
      ],
      "execution_count": 0,
      "outputs": [
        {
          "output_type": "stream",
          "text": [
            "[[9.12440779e-04]\n",
            " [1.50903667e-03]\n",
            " [1.78978768e-03]\n",
            " ...\n",
            " [9.97017021e-01]\n",
            " [9.98561151e-01]\n",
            " [1.00000000e+00]]\n"
          ],
          "name": "stdout"
        }
      ]
    },
    {
      "cell_type": "code",
      "metadata": {
        "id": "HP7LlBtUjKLy",
        "colab_type": "code",
        "outputId": "86cf92ee-fd0e-494c-cfc9-458b8fb6326f",
        "colab": {
          "base_uri": "https://localhost:8080/",
          "height": 34
        }
      },
      "source": [
        "training_set_scaled.shape"
      ],
      "execution_count": 0,
      "outputs": [
        {
          "output_type": "execute_result",
          "data": {
            "text/plain": [
              "(1259, 1)"
            ]
          },
          "metadata": {
            "tags": []
          },
          "execution_count": 42
        }
      ]
    },
    {
      "cell_type": "markdown",
      "metadata": {
        "id": "JLqEqGRfV5il",
        "colab_type": "text"
      },
      "source": [
        "## 3. Building the RNN"
      ]
    },
    {
      "cell_type": "code",
      "metadata": {
        "id": "LU04BlH5V8Rf",
        "colab_type": "code",
        "colab": {}
      },
      "source": [
        "# Import keras libraries and packages\n",
        "from keras.models import Sequential\n",
        "from keras.layers import Dense\n",
        "from keras.layers import LSTM\n",
        "from keras.layers import Dropout"
      ],
      "execution_count": 0,
      "outputs": []
    },
    {
      "cell_type": "code",
      "metadata": {
        "id": "iDvQu5Vrqmkz",
        "colab_type": "code",
        "colab": {}
      },
      "source": [
        "# Initialize RNN\n",
        "regressor = Sequential()"
      ],
      "execution_count": 0,
      "outputs": []
    },
    {
      "cell_type": "code",
      "metadata": {
        "id": "hSj2l-lRrgqu",
        "colab_type": "code",
        "colab": {}
      },
      "source": [
        "# Adding the first LSTM layer and some Dropout Regularization\n",
        "regressor.add(LSTM(units=50, return_sequences=True, input_shape=(X_train.shape[1], 1)))\n",
        "regressor.add(Dropout(0.2))"
      ],
      "execution_count": 0,
      "outputs": []
    },
    {
      "cell_type": "code",
      "metadata": {
        "id": "ALkgRlymubV5",
        "colab_type": "code",
        "colab": {}
      },
      "source": [
        "# Adding the second LSTM layer and some Dropout Regularization\n",
        "regressor.add(LSTM(units=50, return_sequences=True))\n",
        "regressor.add(Dropout(0.2))\n",
        "\n",
        "# Adding the third LSTM layer and some Dropout Regularization\n",
        "regressor.add(LSTM(units=50, return_sequences=True))\n",
        "regressor.add(Dropout(0.2))\n",
        "\n",
        "# Adding the fourth LSTM layer and some Dropout Regularization\n",
        "regressor.add(LSTM(units=50))\n",
        "regressor.add(Dropout(0.2))"
      ],
      "execution_count": 0,
      "outputs": []
    },
    {
      "cell_type": "code",
      "metadata": {
        "id": "a0Xqt08kt2Fm",
        "colab_type": "code",
        "colab": {}
      },
      "source": [
        "# Output layer of RNN\n",
        "regressor.add(Dense(units=1))"
      ],
      "execution_count": 0,
      "outputs": []
    },
    {
      "cell_type": "code",
      "metadata": {
        "id": "mZpXYk7IV0EA",
        "colab_type": "code",
        "colab": {}
      },
      "source": [
        "# Compiling RNN\n",
        "regressor.compile(optimizer='adam', loss = 'mean_squared_error')"
      ],
      "execution_count": 0,
      "outputs": []
    },
    {
      "cell_type": "code",
      "metadata": {
        "id": "ACdhEqABXAcQ",
        "colab_type": "code",
        "colab": {}
      },
      "source": [
        "#Fitting the RNN to Training set\n",
        "regressor.fit(X_train, y_train, epochs=100, batch_size=32)"
      ],
      "execution_count": 0,
      "outputs": []
    },
    {
      "cell_type": "code",
      "metadata": {
        "id": "1obNGg8DDXOm",
        "colab_type": "code",
        "colab": {}
      },
      "source": [
        "## Save the regressor\n",
        "from keras.models import load_model\n",
        "regressor.save('stock_predictor.h5') # creates a HDF5 file 'my_model.h5'"
      ],
      "execution_count": 0,
      "outputs": []
    },
    {
      "cell_type": "code",
      "metadata": {
        "id": "bsr61HptFzSJ",
        "colab_type": "code",
        "colab": {}
      },
      "source": [
        "## Load the regressor\n",
        "# returns a compiled model\n",
        "    # identical to the previous one\n",
        "model = load_model('stock_predictor.h5')"
      ],
      "execution_count": 0,
      "outputs": []
    },
    {
      "cell_type": "markdown",
      "metadata": {
        "id": "WLCpxDrpV8w6",
        "colab_type": "text"
      },
      "source": [
        "## 4. Making the predictions and visualizing the results"
      ]
    },
    {
      "cell_type": "code",
      "metadata": {
        "id": "wiACXpdNWEoq",
        "colab_type": "code",
        "colab": {}
      },
      "source": [
        "# Getting the real stock price of Dec 2019\n",
        "real_stock_price = dfTest.iloc[:,1:2].values"
      ],
      "execution_count": 0,
      "outputs": []
    },
    {
      "cell_type": "code",
      "metadata": {
        "id": "dL43qko5YVYb",
        "colab_type": "code",
        "colab": {}
      },
      "source": [
        "# Getting the predicted stock price of Dec 2019\n",
        "dataset_total = pd.concat((dfTrain['Open'], dfTest['Open']), axis=0)"
      ],
      "execution_count": 0,
      "outputs": []
    },
    {
      "cell_type": "code",
      "metadata": {
        "id": "7HHamuKAYc4p",
        "colab_type": "code",
        "colab": {}
      },
      "source": [
        "# Visulazing the results\n",
        "inputs = dataset_total[len(dataset_total) - len(dfTest) - 60 : ].values "
      ],
      "execution_count": 0,
      "outputs": []
    },
    {
      "cell_type": "code",
      "metadata": {
        "id": "T6P56HP1eBzj",
        "colab_type": "code",
        "colab": {}
      },
      "source": [
        "inputs = inputs.reshape(-1,1)\n",
        "inputs = sc.transform(inputs)"
      ],
      "execution_count": 0,
      "outputs": []
    },
    {
      "cell_type": "code",
      "metadata": {
        "id": "nKtRrAtWesPK",
        "colab_type": "code",
        "colab": {}
      },
      "source": [
        "X_test = []\n",
        "\n",
        "for i in range(60, 80):\n",
        "  X_test.append(inputs[i-60:i, 0])\n",
        "\n",
        "X_test = np.array(X_test)"
      ],
      "execution_count": 0,
      "outputs": []
    },
    {
      "cell_type": "code",
      "metadata": {
        "id": "qGXOXo5rEsDj",
        "colab_type": "code",
        "colab": {}
      },
      "source": [
        "#print(X_test[0])"
      ],
      "execution_count": 0,
      "outputs": []
    },
    {
      "cell_type": "code",
      "metadata": {
        "id": "1m6Fvp0fEqYl",
        "colab_type": "code",
        "colab": {}
      },
      "source": [
        "# Reshaping the data to input to keras\n",
        "X_test = np.reshape(X_test, (X_test.shape[0], X_test.shape[1], 1))"
      ],
      "execution_count": 0,
      "outputs": []
    },
    {
      "cell_type": "code",
      "metadata": {
        "id": "c-fT6zBoEDcq",
        "colab_type": "code",
        "colab": {}
      },
      "source": [
        "#print(X_test[0])"
      ],
      "execution_count": 0,
      "outputs": []
    },
    {
      "cell_type": "code",
      "metadata": {
        "id": "krRzYr6mfuiY",
        "colab_type": "code",
        "colab": {}
      },
      "source": [
        "predicted_stock_price = model.predict(X_test)\n",
        "predicted_stock_price = sc.inverse_transform(predicted_stock_price)"
      ],
      "execution_count": 0,
      "outputs": []
    },
    {
      "cell_type": "code",
      "metadata": {
        "id": "gXn8jzCakBvG",
        "colab_type": "code",
        "outputId": "9f4c9227-4516-4f49-fb50-54852ab80c2f",
        "colab": {
          "base_uri": "https://localhost:8080/",
          "height": 295
        }
      },
      "source": [
        "plt.plot(real_stock_price, color = 'red', label = 'Real SPY Index')\n",
        "plt.plot(predicted_stock_price, color = 'green', label = 'Predicted SPY Index')\n",
        "\n",
        "plt.title('SPY stock price prediction')\n",
        "plt.xlabel('Time')\n",
        "plt.ylabel('SPY Stock Price')\n",
        "plt.legend()\n",
        "plt.show()"
      ],
      "execution_count": 48,
      "outputs": [
        {
          "output_type": "display_data",
          "data": {
            "image/png": "[encoded data removed]",
            "text/plain": [
              "<Figure size 432x288 with 1 Axes>"
            ]
          },
          "metadata": {
            "tags": []
          }
        }
      ]
    }
  ]
}